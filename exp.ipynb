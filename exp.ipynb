{
 "cells": [
  {
   "cell_type": "code",
   "execution_count": 4,
   "metadata": {},
   "outputs": [],
   "source": [
    "import cv2\n",
    "import numpy as np\n",
    "import matplotlib.pyplot as plt"
   ]
  },
  {
   "cell_type": "code",
   "execution_count": 16,
   "metadata": {},
   "outputs": [],
   "source": [
    "def process_frame(frame):\n",
    "    gray = cv2.cvtColor(frame, cv2.COLOR_BGR2GRAY)\n",
    "    blur = cv2.GaussianBlur(gray, (5, 5), 0)\n",
    "    edges = cv2.Canny(blur, 50, 200)\n",
    "\n",
    "    def region_of_interest(frame):\n",
    "        height = frame.shape[0]\n",
    "        polygon = np.array([[(100, height), (900, height), (550, 250)]], dtype=np.int32)\n",
    "        mask = np.zeros_like(frame)\n",
    "        cv2.fillPoly(mask, polygon, 255)\n",
    "        return cv2.bitwise_and(frame, mask)\n",
    "\n",
    "    roi_image = region_of_interest(edges)\n",
    "\n",
    "    lines = cv2.HoughLinesP(\n",
    "        roi_image,\n",
    "        rho=2,\n",
    "        theta=np.pi/180,\n",
    "        threshold=50,  \n",
    "        minLineLength=20,  \n",
    "        maxLineGap=10      \n",
    "    )\n",
    "\n",
    "\n",
    "    def draw_lines(img, lines):\n",
    "        line_image = np.zeros_like(img)\n",
    "        if lines is not None:\n",
    "            for line in lines:\n",
    "                x1, y1, x2, y2 = line[0]\n",
    "                cv2.line(line_image, (x1, y1), (x2, y2), (0, 0, 155), 10)\n",
    "        return cv2.addWeighted(img, 0.9, line_image, 1, 1)\n",
    "\n",
    "    return draw_lines(frame, lines)\n",
    "\n",
    "\n",
    "input_video_path = r\"C:\\Projects\\Lane_Detection\\80400-572395752_tiny.mp4\"\n",
    "cap = cv2.VideoCapture(input_video_path)\n",
    "\n",
    "while cap.isOpened():\n",
    "    r, frame = cap.read()\n",
    "    if r:\n",
    "        processed_frame = process_frame(frame)\n",
    "        cv2.imshow(\"Lane Detection\", processed_frame)\n",
    "        if cv2.waitKey(1) & 0xFF == ord('q'):\n",
    "            break\n",
    "    else:\n",
    "        break\n",
    "\n",
    "cap.release()\n",
    "cv2.destroyAllWindows()\n"
   ]
  }
 ],
 "metadata": {
  "kernelspec": {
   "display_name": "comv",
   "language": "python",
   "name": "python3"
  },
  "language_info": {
   "codemirror_mode": {
    "name": "ipython",
    "version": 3
   },
   "file_extension": ".py",
   "mimetype": "text/x-python",
   "name": "python",
   "nbconvert_exporter": "python",
   "pygments_lexer": "ipython3",
   "version": "3.9.20"
  }
 },
 "nbformat": 4,
 "nbformat_minor": 2
}
