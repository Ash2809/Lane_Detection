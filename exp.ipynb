{
 "cells": [
  {
   "cell_type": "code",
   "execution_count": 2,
   "metadata": {},
   "outputs": [],
   "source": [
    "import cv2\n",
    "import numpy as np\n",
    "import matplotlib.pyplot as plt"
   ]
  },
  {
   "cell_type": "code",
   "execution_count": null,
   "metadata": {},
   "outputs": [],
   "source": [
    "def process_frame(frame):\n",
    "    gray = cv2.cvtColor(frame, cv2.COLOR_BGR2GRAY)\n",
    "    blur = cv2.GaussianBlur(gray, (5,5), 0)\n",
    "    edges = cv2.Canny(blur, 50, 150)\n",
    "\n",
    "    def region_of_interest(frame):\n",
    "        height = frame.shape[0]\n",
    "        polygon = np.array([[(100, height), (900, height), (550, 250)]])\n",
    "        mask = np.zeros_like(frame)\n",
    "        cv2.fillPoly(frame, polygon, 255)\n",
    "        return cv2.bitwise_and(frame, mask)\n",
    "    \n",
    "    roi_image = region_of_interest(edges)\n",
    "\n",
    "    lines = cv2.HoughLinesP(\n",
    "        roi_image, \n",
    "        rho=2, \n",
    "        theta=np.pi/180, \n",
    "        threshold=100, \n",
    "        lines=np.array([]), \n",
    "        minLineLength=40, \n",
    "        maxLineGap=5\n",
    "    )\n",
    "\n",
    "    def draw_lines(img, lines):\n",
    "        line_image = np.zeros_like(img)\n",
    "        if lines is not None:\n",
    "            for line in lines:\n",
    "                x1, x2, y1, y2 = line[0]\n",
    "                cv2.line(img, (x1, y1), (x2, y2), (255, 0, 0), 60)\n",
    "        return cv2.addWeighted(img, 0.8, line_image, 1, 1)\n",
    "    \n",
    "    return draw_lines(frame, lines)"
   ]
  },
  {
   "cell_type": "code",
   "execution_count": 14,
   "metadata": {},
   "outputs": [],
   "source": [
    "input_video_path = r\"C:\\Projects\\Lane_Detection\\80400-572395752_tiny.mp4\"\n",
    "output_video_path = 'output_video.avi'\n",
    "\n",
    "cap = cv2.VideoCapture(input_video_path)\n",
    "fourcc = cv2.VideoWriter_fourcc(*'XVID')\n",
    "out = cv2.VideoWriter(output_video_path, fourcc, 20.0, \n",
    "                      (int(cap.get(cv2.CAP_PROP_FRAME_WIDTH)),\n",
    "                       int(cap.get(cv2.CAP_PROP_FRAME_HEIGHT))))"
   ]
  },
  {
   "cell_type": "code",
   "execution_count": 15,
   "metadata": {},
   "outputs": [],
   "source": [
    "while cap.isOpened():\n",
    "    r, frame = cap.read()\n",
    "    if r:\n",
    "        processed_frame = process_frame(frame)\n",
    "        out.write(processed_frame)\n",
    "        cv2.imshow('Lane Detection', processed_frame)\n",
    "        if cv2.waitKey(1) & 0xFF == ord('q'):\n",
    "            break\n",
    "\n",
    "cap.release()\n",
    "out.release()\n",
    "cv2.destroyAllWindows()"
   ]
  },
  {
   "cell_type": "code",
   "execution_count": null,
   "metadata": {},
   "outputs": [],
   "source": []
  }
 ],
 "metadata": {
  "kernelspec": {
   "display_name": "comv",
   "language": "python",
   "name": "python3"
  },
  "language_info": {
   "codemirror_mode": {
    "name": "ipython",
    "version": 3
   },
   "file_extension": ".py",
   "mimetype": "text/x-python",
   "name": "python",
   "nbconvert_exporter": "python",
   "pygments_lexer": "ipython3",
   "version": "3.9.20"
  }
 },
 "nbformat": 4,
 "nbformat_minor": 2
}
